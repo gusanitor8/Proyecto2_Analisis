{
 "cells": [
  {
   "cell_type": "markdown",
   "metadata": {},
   "source": [
    "# Proyecto 2\n",
    "## Problema Minimum Coin Change"
   ]
  },
  {
   "cell_type": "markdown",
   "metadata": {},
   "source": [
    "**Importar librerias**"
   ]
  },
  {
   "cell_type": "code",
   "execution_count": 9,
   "metadata": {},
   "outputs": [],
   "source": [
    "import sys"
   ]
  },
  {
   "cell_type": "markdown",
   "metadata": {},
   "source": [
    "## Implementación del algoritmo con Dynamic Programming\n",
    "El resultado del algoritmo es una matriz donde el eje vertical (eje y) representa las denominaciones de las monedas, ordenadas de menor a mayor. El valor en una casilla con coordenadas (x, y) representa el número mínimo de monedas necesarias para formar el valor x utilizando todas las monedas con denominaciones menores o iguales a y. Por lo tanto, el resultado final del algoritmo es el número ubicado en la esquina inferior derecha de la matriz. Este número indica el mínimo número de monedas necesarias para formar el valor deseado con las monedas disponibles."
   ]
  },
  {
   "cell_type": "code",
   "execution_count": 10,
   "metadata": {},
   "outputs": [
    {
     "name": "stdout",
     "output_type": "stream",
     "text": [
      "x  0  1  2  3  4  5  6  7  \n",
      "1 [0, 1, 2, 3, 4, 5, 6, 7]\n",
      "3 [0, 1, 2, 1, 2, 3, 2, 3]\n",
      "4 [0, 1, 2, 1, 1, 2, 2, 2]\n",
      "5 [0, 1, 2, 1, 1, 1, 2, 2]\n"
     ]
    }
   ],
   "source": [
    "def init_table(coins: [int], amount: int):\n",
    "    table = [[0]*(amount+1) for _ in range(len(coins))]\n",
    "\n",
    "    for i in range(len(table[0])):\n",
    "        table[0][i] = i\n",
    "\n",
    "    return table\n",
    "\n",
    "# the amounts MUST include a 1 cent coin\n",
    "# the coins list MUST be sorted\n",
    "def coin_change(coins: [int], amount: int):    \n",
    "    table = init_table(coins, amount)\n",
    "\n",
    "    for row in range(1, len(coins)):\n",
    "        for col in range(amount+1):\n",
    "            if col < coins[row]:\n",
    "                table[row][col] = table[row-1][col]\n",
    "            else:\n",
    "                table[row][col] = min(table[row-1][col], 1 + table[row][col-coins[row]])\n",
    "\n",
    "    return table\n",
    "\n",
    "\n",
    "def print_result(coins: [int], amount: int):\n",
    "    table = coin_change(coins, amount)\n",
    "\n",
    "    print(\"x\", end=\"  \")\n",
    "    for i in range(amount+1):\n",
    "        print(i, end=\"  \")\n",
    "    print()\n",
    "\n",
    "    for i in range(len(table)):\n",
    "        print(coins[i], end=\" \")\n",
    "        print(table[i])\n",
    "\n",
    "coins = [1,3,4,5]\n",
    "amount = 7\n",
    "table = print_result(coins, amount)\n"
   ]
  },
  {
   "cell_type": "markdown",
   "metadata": {},
   "source": [
    "### Implementacion con Programacion dinamica V2"
   ]
  },
  {
   "cell_type": "code",
   "execution_count": 11,
   "metadata": {},
   "outputs": [],
   "source": [
    "def minCoinChangeDP(coin, m, K):\n",
    "    # If the total amount K is 0, return 0\n",
    "    if K == 0:\n",
    "        return 0\n",
    "\n",
    "    # Initialize Change array with large positive values (as infinity)\n",
    "    Change = [sys.maxsize] * (K + 1)\n",
    "    Change[0] = 0  # Base case: 0 coins needed for the total amount of 0\n",
    "\n",
    "    # Fill the Change array with the minimum number of coins for each amount up to K\n",
    "    for i in range(1, K + 1):\n",
    "        for j in range(m):\n",
    "            if coin[j] <= i:\n",
    "                currCount = Change[i - coin[j]]\n",
    "                if currCount != sys.maxsize and currCount + 1 < Change[i]:\n",
    "                    Change[i] = currCount + 1\n",
    "\n",
    "    # If Change[K] is still sys.maxsize, it means the amount K cannot be formed by any combination of coins\n",
    "    if Change[K] == sys.maxsize:\n",
    "        return -1\n",
    "    else:\n",
    "        return Change[K]"
   ]
  },
  {
   "cell_type": "code",
   "execution_count": 12,
   "metadata": {},
   "outputs": [
    {
     "name": "stdout",
     "output_type": "stream",
     "text": [
      "2\n"
     ]
    }
   ],
   "source": [
    "# Testing the function\n",
    "# List of coin denominations\n",
    "coins = [1, 3, 4, 5]\n",
    "\n",
    "# Parameters\n",
    "m = len(coins)\n",
    "K = 7\n",
    "\n",
    "# Function call\n",
    "print(minCoinChangeDP(coins, m, K))"
   ]
  },
  {
   "cell_type": "markdown",
   "metadata": {},
   "source": [
    "## Implementacion con Divide y Conquista"
   ]
  },
  {
   "cell_type": "code",
   "execution_count": 13,
   "metadata": {},
   "outputs": [],
   "source": [
    "def minCoinChangeDAC(coin, m, K):\n",
    "    # Base case: When the total amount K is 0, 0 coins are needed\n",
    "    if K == 0:\n",
    "        return 0\n",
    "\n",
    "    # Initialize minCount to a very large positive value\n",
    "    minCount = sys.maxsize\n",
    "\n",
    "    # Try every coin that has a value less than or equal to K\n",
    "    for i in range(m):\n",
    "        if coin[i] <= K:\n",
    "            # Recursively find the number of coins needed for the remaining amount\n",
    "            currCount = minCoinChangeDAC(coin, m, K - coin[i])\n",
    "\n",
    "            # If the number of coins needed for the remaining amount is not infinite,\n",
    "            # and is less than the current minCount, update minCount\n",
    "            if currCount != sys.maxsize and currCount + 1 < minCount:\n",
    "                minCount = currCount + 1\n",
    "\n",
    "    # If minCount has not been updated, return -1 to indicate failure\n",
    "    if minCount == sys.maxsize:\n",
    "        return -1\n",
    "    else:\n",
    "        return minCount"
   ]
  },
  {
   "cell_type": "code",
   "execution_count": 14,
   "metadata": {},
   "outputs": [
    {
     "name": "stdout",
     "output_type": "stream",
     "text": [
      "2\n"
     ]
    }
   ],
   "source": [
    "# Testing the function\n",
    "# List of coin denominations\n",
    "coins = [1, 3, 4, 5]\n",
    "\n",
    "# Parameters\n",
    "m = len(coins)\n",
    "K = 7\n",
    "\n",
    "# Function call\n",
    "print(minCoinChangeDAC(coins, m, K))"
   ]
  },
  {
   "cell_type": "markdown",
   "metadata": {},
   "source": [
    "**Referencias:**\n",
    "- https://www.enjoyalgorithms.com/blog/minimum-coin-change\n",
    "- https://www.boardinfinity.com/blog/coin-change-problem-with-dp-and-recursion-approach/"
   ]
  }
 ],
 "metadata": {
  "kernelspec": {
   "display_name": "Python 3",
   "language": "python",
   "name": "python3"
  },
  "language_info": {
   "codemirror_mode": {
    "name": "ipython",
    "version": 3
   },
   "file_extension": ".py",
   "mimetype": "text/x-python",
   "name": "python",
   "nbconvert_exporter": "python",
   "pygments_lexer": "ipython3",
   "version": "3.11.6"
  }
 },
 "nbformat": 4,
 "nbformat_minor": 2
}
