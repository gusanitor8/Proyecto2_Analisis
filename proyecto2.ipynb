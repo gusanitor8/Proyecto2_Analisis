{
 "cells": [
  {
   "cell_type": "markdown",
   "metadata": {},
   "source": [
    "# Proyecto 2\n",
    "Insertar alguna descripción"
   ]
  },
  {
   "cell_type": "markdown",
   "metadata": {},
   "source": [
    "## Implementación del algoritmo con Dynamic Programming\n",
    "En esta implementación nuestro resultado es el número de la esquina inferior derecha. Este representa el número mínimo de monedas que se puede dar para una cantidad específica. "
   ]
  },
  {
   "cell_type": "code",
   "execution_count": 17,
   "metadata": {},
   "outputs": [
    {
     "name": "stdout",
     "output_type": "stream",
     "text": [
      "x  0  1  2  3  4  5  6  7  \n",
      "1 [0, 1, 2, 3, 4, 5, 6, 7]\n",
      "3 [0, 1, 2, 1, 2, 3, 2, 3]\n",
      "4 [0, 1, 2, 1, 1, 2, 2, 2]\n",
      "5 [0, 1, 2, 1, 1, 1, 2, 2]\n"
     ]
    }
   ],
   "source": [
    "def init_table(coins: [int], amount: int):\n",
    "    table = [[0]*(amount+1) for _ in range(len(coins))]\n",
    "\n",
    "    for i in range(len(table[0])):\n",
    "        table[0][i] = i\n",
    "\n",
    "    return table\n",
    "\n",
    "# the amounts MUST include a 1 cent coin\n",
    "# the coins list MUST be sorted\n",
    "def coin_change(coins: [int], amount: int):    \n",
    "    table = init_table(coins, amount)\n",
    "\n",
    "    for row in range(1, len(coins)):\n",
    "        for col in range(amount+1):\n",
    "            if col < coins[row]:\n",
    "                table[row][col] = table[row-1][col]\n",
    "            else:\n",
    "                table[row][col] = min(table[row-1][col], 1 + table[row][col-coins[row]])\n",
    "\n",
    "    return table\n",
    "\n",
    "\n",
    "def print_result(coins: [int], amount: int):\n",
    "    table = coin_change(coins, amount)\n",
    "\n",
    "    print(\"x\", end=\"  \")\n",
    "    for i in range(amount+1):\n",
    "        print(i, end=\"  \")\n",
    "    print()\n",
    "\n",
    "    for i in range(len(table)):\n",
    "        print(coins[i], end=\" \")\n",
    "        print(table[i])\n",
    "\n",
    "coins = [1,3,4,5]\n",
    "amount = 7\n",
    "table = print_result(coins, amount)\n"
   ]
  },
  {
   "cell_type": "markdown",
   "metadata": {},
   "source": [
    "### Análisis empírico"
   ]
  },
  {
   "cell_type": "code",
   "execution_count": null,
   "metadata": {},
   "outputs": [],
   "source": []
  },
  {
   "cell_type": "markdown",
   "metadata": {},
   "source": [
    "## Implementación del algoritmo con Divide and Conquer"
   ]
  },
  {
   "cell_type": "code",
   "execution_count": null,
   "metadata": {},
   "outputs": [],
   "source": [
    "print()"
   ]
  },
  {
   "cell_type": "markdown",
   "metadata": {},
   "source": [
    "### Análisis empírico"
   ]
  },
  {
   "cell_type": "code",
   "execution_count": null,
   "metadata": {},
   "outputs": [],
   "source": []
  }
 ],
 "metadata": {
  "kernelspec": {
   "display_name": "Python 3",
   "language": "python",
   "name": "python3"
  },
  "language_info": {
   "codemirror_mode": {
    "name": "ipython",
    "version": 3
   },
   "file_extension": ".py",
   "mimetype": "text/x-python",
   "name": "python",
   "nbconvert_exporter": "python",
   "pygments_lexer": "ipython3",
   "version": "3.9.2"
  }
 },
 "nbformat": 4,
 "nbformat_minor": 2
}
